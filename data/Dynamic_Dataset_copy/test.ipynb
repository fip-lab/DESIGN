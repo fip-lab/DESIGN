{
 "cells": [
  {
   "cell_type": "code",
   "execution_count": 5,
   "metadata": {},
   "outputs": [
    {
     "name": "stdout",
     "output_type": "stream",
     "text": [
      "Total count:  83944\n",
      "Positive count:  41972\n",
      "Negative count:  41972\n"
     ]
    }
   ],
   "source": [
    "import json\n",
    "\n",
    "with open(\"./train_dataset.json\", \"r\") as f:\n",
    "    data = json.load(f)\n",
    "\n",
    "positive_count = 0\n",
    "negative_count = 0\n",
    "\n",
    "for d in data:\n",
    "    if d[\"labels\"] == \"yes\":\n",
    "        positive_count += 1\n",
    "    else:\n",
    "        negative_count += 1\n",
    "print(\"Total count: \", len(data))\n",
    "print(\"Positive count: \", positive_count)\n",
    "print(\"Negative count: \", negative_count)"
   ]
  },
  {
   "cell_type": "code",
   "execution_count": 6,
   "metadata": {},
   "outputs": [
    {
     "name": "stdout",
     "output_type": "stream",
     "text": [
      "Total count:  125916\n",
      "Positive count:  41972\n",
      "Negative count:  83944\n"
     ]
    }
   ],
   "source": [
    "with open(\"./train_dataset_2.json\", \"r\") as f:\n",
    "    data = json.load(f)\n",
    "\n",
    "positive_count = 0\n",
    "negative_count = 0\n",
    "\n",
    "for d in data:\n",
    "    if d[\"labels\"] == \"yes\":\n",
    "        positive_count += 1\n",
    "    else:\n",
    "        negative_count += 1\n",
    "print(\"Total count: \", len(data))\n",
    "print(\"Positive count: \", positive_count)\n",
    "print(\"Negative count: \", negative_count)"
   ]
  },
  {
   "cell_type": "code",
   "execution_count": 9,
   "metadata": {},
   "outputs": [
    {
     "name": "stdout",
     "output_type": "stream",
     "text": [
      "Total count:  153409\n",
      "Positive count:  38360\n",
      "Negative count:  115049\n",
      "0.25005051854845545\n"
     ]
    }
   ],
   "source": [
    "with open(\"./train_dataset_3.json\", \"r\") as f:\n",
    "    data = json.load(f)\n",
    "\n",
    "positive_count = 0\n",
    "negative_count = 0\n",
    "\n",
    "for d in data:\n",
    "    if d[\"labels\"] == \"yes\":\n",
    "        positive_count += 1\n",
    "    else:\n",
    "        negative_count += 1\n",
    "print(\"Total count: \", len(data))\n",
    "print(\"Positive count: \", positive_count)\n",
    "print(\"Negative count: \", negative_count)\n",
    "print(positive_count/(positive_count+negative_count))"
   ]
  }
 ],
 "metadata": {
  "kernelspec": {
   "display_name": "knowdialog",
   "language": "python",
   "name": "python3"
  },
  "language_info": {
   "codemirror_mode": {
    "name": "ipython",
    "version": 3
   },
   "file_extension": ".py",
   "mimetype": "text/x-python",
   "name": "python",
   "nbconvert_exporter": "python",
   "pygments_lexer": "ipython3",
   "version": "3.8.16"
  }
 },
 "nbformat": 4,
 "nbformat_minor": 2
}
