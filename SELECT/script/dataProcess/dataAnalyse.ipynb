{
 "cells": [
  {
   "cell_type": "code",
   "execution_count": 1,
   "metadata": {},
   "outputs": [],
   "source": [
    "import json"
   ]
  },
  {
   "cell_type": "code",
   "execution_count": 2,
   "metadata": {},
   "outputs": [],
   "source": [
    "def load_data(path):\n",
    "    with open(path, 'r') as file:\n",
    "        data = [json.loads(line) for line in file]\n",
    "    return data"
   ]
  },
  {
   "cell_type": "code",
   "execution_count": 3,
   "metadata": {},
   "outputs": [],
   "source": [
    "trainFile = '/disk4/zhuangjt/zhuangjt_disk3/SELECT/data/ReDial/ReDial_Original/train_data.jsonl'\n",
    "testFile = '/disk4/zhuangjt/zhuangjt_disk3/SELECT/data/ReDial/ReDial_Original/test_data.jsonl'"
   ]
  },
  {
   "cell_type": "code",
   "execution_count": 4,
   "metadata": {},
   "outputs": [],
   "source": [
    "trainFile = '/disk4/zhuangjt/zhuangjt_disk3/SELECT/data/ReDial/ReDial_Postprocess/train_data.jsonl'\n",
    "testFile = '/disk4/zhuangjt/zhuangjt_disk3/SELECT/data/ReDial/ReDial_Postprocess/test_data.jsonl'\n",
    "valFile = '/disk4/zhuangjt/zhuangjt_disk3/SELECT/data/ReDial/ReDial_Postprocess/val_data.jsonl'\n",
    "candidateFile = '/disk4/zhuangjt/zhuangjt_disk3/SELECT/data/ReDial/ReDial_Postprocess/candidate_data.jsonl'"
   ]
  },
  {
   "cell_type": "code",
   "execution_count": 5,
   "metadata": {},
   "outputs": [
    {
     "name": "stdout",
     "output_type": "stream",
     "text": [
      "Loaded 6174 train conversations\n",
      "Loaded 1274 test conversations\n",
      "Loaded 1274 val conversations\n",
      "Loaded 2058 candidate conversations\n"
     ]
    }
   ],
   "source": [
    "trainData = []\n",
    "testData = []\n",
    "for line in open(trainFile, \"r\"):\n",
    "    trainData.append(json.loads(line))\n",
    "print(\"Loaded {} train conversations\".format(len(trainData)))\n",
    "\n",
    "for line in open(testFile, \"r\"):\n",
    "    testData.append(json.loads(line))\n",
    "print(\"Loaded {} test conversations\".format(len(testData)))\n",
    "\n",
    "valData = []\n",
    "for line in open(valFile, \"r\"):\n",
    "    valData.append(json.loads(line))\n",
    "print(\"Loaded {} val conversations\".format(len(valData)))\n",
    "\n",
    "candidateData = []\n",
    "for line in open(candidateFile, \"r\"):\n",
    "    candidateData.append(json.loads(line))\n",
    "print(\"Loaded {} candidate conversations\".format(len(candidateData)))"
   ]
  },
  {
   "cell_type": "code",
   "execution_count": 6,
   "metadata": {},
   "outputs": [
    {
     "name": "stdout",
     "output_type": "stream",
     "text": [
      "train context avg len:  6.83469387755102\n"
     ]
    }
   ],
   "source": [
    "#统计四个集合中context对应的value这个list的平均长度\n",
    "def get_avg_context_len(data):\n",
    "    context_len = 0\n",
    "    for conv in data:\n",
    "        context_len += len(conv[\"context\"])\n",
    "    return context_len / len(data)\n",
    "\n",
    "print(\"train context avg len: \", get_avg_context_len(trainData + valData + testData +  candidateData))"
   ]
  },
  {
   "cell_type": "code",
   "execution_count": 10,
   "metadata": {},
   "outputs": [
    {
     "name": "stdout",
     "output_type": "stream",
     "text": [
      "recommend_count:  108098\n",
      "neutral_count:  5149\n",
      "recommend_ratio:  0.9545330119120153\n"
     ]
    }
   ],
   "source": [
    "def distribution(data):\n",
    "    # 初始化计数器\n",
    "    recommend_count = 0\n",
    "    neutral_count = 0\n",
    "\n",
    "    # 遍历数据\n",
    "    for item in data:\n",
    "        # 检查 systemRoleMoviePerfenrnce\n",
    "        for key, value in item.get('systemRoleMoviePerfenrnce', {}).items():\n",
    "            if value == 'recommend':\n",
    "                recommend_count += 1\n",
    "            elif value == 'neutral':\n",
    "                neutral_count += 1\n",
    "        \n",
    "        # 检查 userRoleMoviePerfenrnce\n",
    "        for key, value in item.get('userRoleMoviePerfenrnce', {}).items():\n",
    "            if value == 'recommend':\n",
    "                recommend_count += 1\n",
    "            elif value == 'neutral':\n",
    "                neutral_count += 1\n",
    "\n",
    "    # 打印数量和比例\n",
    "    print(\"recommend_count: \", recommend_count)\n",
    "    print(\"neutral_count: \", neutral_count)\n",
    "    \n",
    "    # 避免除零错误\n",
    "    total = recommend_count + neutral_count\n",
    "    if total > 0:\n",
    "        print(\"recommend_ratio: \", recommend_count / total)\n",
    "    else:\n",
    "        print(\"recommend_ratio: 0 (no data)\")\n",
    "\n",
    "# 假设 trainData, valData, testData, candidateData 是列表\n",
    "combined_data = trainData + valData + testData + candidateData\n",
    "distribution(combined_data)\n"
   ]
  }
 ],
 "metadata": {
  "kernelspec": {
   "display_name": "knowdialog",
   "language": "python",
   "name": "python3"
  },
  "language_info": {
   "codemirror_mode": {
    "name": "ipython",
    "version": 3
   },
   "file_extension": ".py",
   "mimetype": "text/x-python",
   "name": "python",
   "nbconvert_exporter": "python",
   "pygments_lexer": "ipython3",
   "version": "3.8.16"
  }
 },
 "nbformat": 4,
 "nbformat_minor": 2
}
