{
 "cells": [
  {
   "cell_type": "code",
   "execution_count": 17,
   "id": "696e1782",
   "metadata": {},
   "outputs": [],
   "source": [
    "import json\n",
    "\n",
    "def load_data(path):\n",
    "    with open(path, 'r') as file:\n",
    "        data = json.load(file)\n",
    "    return data\n",
    "\n",
    "def save_data(data, path):\n",
    "    with open(path, 'w') as file:\n",
    "        json.dump(data, file, indent=4)"
   ]
  },
  {
   "cell_type": "code",
   "execution_count": 18,
   "id": "01fbe9fe",
   "metadata": {},
   "outputs": [
    {
     "name": "stdout",
     "output_type": "stream",
     "text": [
      "train_log:  28431\n",
      "train_label:  28431\n",
      "test_log:  5475\n",
      "test_label:  5475\n"
     ]
    }
   ],
   "source": [
    "train_log_path = \"/disk4/zhuangjt/zhuangjt_disk3/SELECT/data/SK-TOD/origin/train/logs.json\"\n",
    "train_label_path = \"/disk4/zhuangjt/zhuangjt_disk3/SELECT/data/SK-TOD/origin/train/labels.json\"\n",
    "\n",
    "test_log_path = \"/disk4/zhuangjt/zhuangjt_disk3/SELECT/data/SK-TOD/origin/test/logs.json\"\n",
    "test_label_path = \"/disk4/zhuangjt/zhuangjt_disk3/SELECT/data/SK-TOD/origin/test/labels.json\"\n",
    "\n",
    "train_log = load_data(train_log_path)\n",
    "train_label = load_data(train_label_path)\n",
    "\n",
    "test_log = load_data(test_log_path)\n",
    "test_label = load_data(test_label_path)\n",
    "\n",
    "print(\"train_log: \", len(train_log))\n",
    "print(\"train_label: \", len(train_label))\n",
    "print(\"test_log: \", len(test_log))\n",
    "print(\"test_label: \", len(test_label))"
   ]
  },
  {
   "cell_type": "code",
   "execution_count": 19,
   "id": "c380e062",
   "metadata": {},
   "outputs": [],
   "source": [
    "#合并数据\n",
    "log = train_log + test_log\n",
    "label = train_label + test_label\n",
    "\n"
   ]
  },
  {
   "cell_type": "code",
   "execution_count": 20,
   "id": "12896bb0",
   "metadata": {},
   "outputs": [
    {
     "name": "stdout",
     "output_type": "stream",
     "text": [
      "log:  33906\n",
      "label:  33906\n"
     ]
    }
   ],
   "source": [
    "#打乱数据,但是保持log和label的对应关系\n",
    "import random\n",
    "random.seed(0)\n",
    "random.shuffle(log)\n",
    "random.seed(0)\n",
    "random.shuffle(label)\n",
    "\n",
    "print(\"log: \", len(log))\n",
    "print(\"label: \", len(label))"
   ]
  },
  {
   "cell_type": "code",
   "execution_count": 21,
   "id": "c2110f7d",
   "metadata": {},
   "outputs": [
    {
     "name": "stdout",
     "output_type": "stream",
     "text": [
      "divide_len:  6781\n",
      "divide_0: train_log: 27125, train_label: 27125, test_log: 6781, test_label: 6781\n",
      "divide_1: train_log: 27125, train_label: 27125, test_log: 6781, test_label: 6781\n",
      "divide_2: train_log: 27125, train_label: 27125, test_log: 6781, test_label: 6781\n",
      "divide_3: train_log: 27125, train_label: 27125, test_log: 6781, test_label: 6781\n",
      "divide_4: train_log: 27125, train_label: 27125, test_log: 6781, test_label: 6781\n"
     ]
    }
   ],
   "source": [
    "#将数据分成五份，以后续实现5折交叉验证\n",
    "#分别保存为“/disk4/zhuangjt/zhuangjt_disk3/SELECT/data/SK-TOD/divide_1/train/logs.json”\n",
    "#“/disk4/zhuangjt/zhuangjt_disk3/SELECT/data/SK-TOD/divide_1/train/logs.json”\n",
    "#“/disk4/zhuangjt/zhuangjt_disk3/SELECT/data/SK-TOD/divide_2/train/labels.json”\n",
    "#“/disk4/zhuangjt/zhuangjt_disk3/SELECT/data/SK-TOD/divide_2/train/labels.json”\n",
    "#其中train占80%，test占20%\n",
    "#因为是五折交叉验证，所以divide_1到divide_5都是这样的划分\n",
    "\n",
    "divide_num = 5\n",
    "divide_len = len(log) // divide_num\n",
    "print(\"divide_len: \", divide_len)\n",
    "\n",
    "for i in range(divide_num):\n",
    "    train_log_path = \"/disk4/zhuangjt/zhuangjt_disk3/SELECT/data/SK-TOD/divide_{}/train/logs.json\".format(i)\n",
    "    train_label_path = \"/disk4/zhuangjt/zhuangjt_disk3/SELECT/data/SK-TOD/divide_{}/train/labels.json\".format(i)\n",
    "    test_log_path = \"/disk4/zhuangjt/zhuangjt_disk3/SELECT/data/SK-TOD/divide_{}/test/logs.json\".format(i)\n",
    "    test_label_path = \"/disk4/zhuangjt/zhuangjt_disk3/SELECT/data/SK-TOD/divide_{}/test/labels.json\".format(i)\n",
    "\n",
    "    train_log = log[:divide_len * i] + log[divide_len * (i + 1):]\n",
    "    train_label = label[:divide_len * i] + label[divide_len * (i + 1):]\n",
    "\n",
    "    test_log = log[divide_len * i: divide_len * (i + 1)]\n",
    "    test_label = label[divide_len * i: divide_len * (i + 1)]\n",
    "\n",
    "    #打散数据\n",
    "    random.seed(i)\n",
    "    random.shuffle(train_log)\n",
    "    random.seed(i)\n",
    "    random.shuffle(train_label)\n",
    "\n",
    "    save_data(train_log, train_log_path)\n",
    "    save_data(train_label, train_label_path)\n",
    "    save_data(test_log, test_log_path)\n",
    "    save_data(test_label, test_label_path)\n",
    "\n",
    "    print(\"divide_{}: train_log: {}, train_label: {}, test_log: {}, test_label: {}\".format(i, len(train_log), len(train_label), len(test_log), len(test_label)))"
   ]
  }
 ],
 "metadata": {
  "kernelspec": {
   "display_name": "knowdialog",
   "language": "python",
   "name": "python3"
  },
  "language_info": {
   "codemirror_mode": {
    "name": "ipython",
    "version": 3
   },
   "file_extension": ".py",
   "mimetype": "text/x-python",
   "name": "python",
   "nbconvert_exporter": "python",
   "pygments_lexer": "ipython3",
   "version": "3.8.16"
  }
 },
 "nbformat": 4,
 "nbformat_minor": 5
}
