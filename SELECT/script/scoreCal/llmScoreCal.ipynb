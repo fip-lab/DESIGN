{
 "cells": [
  {
   "cell_type": "code",
   "execution_count": 10,
   "metadata": {},
   "outputs": [
    {
     "name": "stdout",
     "output_type": "stream",
     "text": [
      "Skipping line due to missing data: \"Appropriateness: 5\\nCorrectness: 4\\nEmotional Consistency: 5\"\n",
      "\n",
      "Appropriateness: 4.3424980361351135\n",
      "Correctness: 3.9018067556952083\n",
      "Emotional consistency: 4.116260801256874\n"
     ]
    }
   ],
   "source": [
    "import json\n",
    "\n",
    "# 定义文件路径\n",
    "file_path = '/home/zhuangjt/zhuangjt_disk3/SELECT/score/test/Bart-base_llmEval.jsonl'\n",
    "\n",
    "# 初始化三个空列表\n",
    "appropriateness_scores = []\n",
    "correctness_scores = []\n",
    "emotional_consistency_scores = []\n",
    "\n",
    "# 读取jsonl文件并处理每一行\n",
    "# 读取jsonl文件并处理每一行\n",
    "with open(file_path, 'r') as file:\n",
    "    for line in file:\n",
    "        # 解析每一行数据\n",
    "        data = line.strip().replace('\\\\n', '\\n')\n",
    "        \n",
    "        try:\n",
    "            # 提取评分，并去除可能的额外字符\n",
    "            appropriateness = int(data.split('Appropriateness: ')[1].split('\\n')[0].strip('\"'))\n",
    "            correctness = int(data.split('Correctness: ')[1].split('\\n')[0].strip('\"'))\n",
    "            emotional_consistency = int(data.split('Emotional consistency: ')[1].split('\\n')[0].strip('\"'))\n",
    "        except IndexError:\n",
    "            # 如果某一项评分缺失，跳过该行\n",
    "            print(f\"Skipping line due to missing data: {line}\")\n",
    "            continue\n",
    "        \n",
    "        # 添加到对应的列表中\n",
    "        appropriateness_scores.append(appropriateness)\n",
    "        correctness_scores.append(correctness)\n",
    "        emotional_consistency_scores.append(emotional_consistency)\n",
    "\n",
    "# 计算平均值\n",
    "avg_appropriateness = sum(appropriateness_scores) / len(appropriateness_scores)\n",
    "avg_correctness = sum(correctness_scores) / len(correctness_scores)\n",
    "avg_emotional_consistency = sum(emotional_consistency_scores) / len(emotional_consistency_scores)\n",
    "\n",
    "# 输出结果\n",
    "print(f'Appropriateness: {avg_appropriateness}')\n",
    "print(f'Correctness: {avg_correctness}')\n",
    "print(f'Emotional consistency: {avg_emotional_consistency}')\n"
   ]
  }
 ],
 "metadata": {
  "kernelspec": {
   "display_name": "knowdialog",
   "language": "python",
   "name": "python3"
  },
  "language_info": {
   "codemirror_mode": {
    "name": "ipython",
    "version": 3
   },
   "file_extension": ".py",
   "mimetype": "text/x-python",
   "name": "python",
   "nbconvert_exporter": "python",
   "pygments_lexer": "ipython3",
   "version": "3.8.16"
  }
 },
 "nbformat": 4,
 "nbformat_minor": 2
}
